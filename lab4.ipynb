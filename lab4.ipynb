{
 "cells": [
  {
   "cell_type": "code",
   "execution_count": 1,
   "id": "bfc2b210",
   "metadata": {},
   "outputs": [],
   "source": [
    "import os\n",
    "import numpy as np\n",
    "import pandas as pd\n",
    "import matplotlib.pyplot as plt\n",
    "import tensorflow as tf\n",
    "from tensorflow.keras.preprocessing.image import ImageDataGenerator\n",
    "from sklearn.model_selection import train_test_split\n",
    "from tensorflow.keras.models import Sequential\n",
    "from tensorflow.keras.layers import Conv2D, MaxPooling2D, Flatten, Dense, Dropout\n",
    "import seaborn as sns"
   ]
  },
  {
   "cell_type": "code",
   "execution_count": 2,
   "id": "45fcddeb",
   "metadata": {},
   "outputs": [],
   "source": [
    "data_dir = 'D:/NN_labs/lab4/101_food_classes_10_percent/train/'\n",
    "classes = sorted(os.listdir(data_dir))\n",
    "selected_classes = [classes[4], classes[34], classes[64]]"
   ]
  },
  {
   "cell_type": "code",
   "execution_count": 4,
   "id": "fd368f7e",
   "metadata": {},
   "outputs": [],
   "source": [
    "train_data = []\n",
    "test_data = []\n",
    "\n",
    "for clas in selected_classes:\n",
    "    class_path = os.path.join(data_dir, clas)\n",
    "    class_images = [os.path.join(clas, img) for img in os.listdir(class_path)]\n",
    "    train, test = train_test_split(class_images, test_size=0.2, random_state=42)\n",
    "    train_data.extend([(clas, img) for img in train])\n",
    "    test_data.extend([(clas, img) for img in test])\n",
    "\n",
    "train_df = pd.DataFrame(train_data, columns=['class', 'image'])\n",
    "test_df = pd.DataFrame(test_data, columns=['class', 'image'])"
   ]
  },
  {
   "cell_type": "code",
   "execution_count": 6,
   "id": "2a3937e1",
   "metadata": {},
   "outputs": [
    {
     "name": "stdout",
     "output_type": "stream",
     "text": [
      "Found 180 validated image filenames belonging to 3 classes.\n",
      "Found 45 validated image filenames belonging to 3 classes.\n"
     ]
    }
   ],
   "source": [
    "img_size = (224, 224)\n",
    "batch_size = 32\n",
    "\n",
    "train_datagenerator = ImageDataGenerator(rescale=1./255, shear_range=0.2, zoom_range=0.2, horizontal_flip=True)\n",
    "test_datagenerator = ImageDataGenerator(rescale=1./255)\n",
    "\n",
    "train_generator = train_datagenerator.flow_from_dataframe(train_df, directory=data_dir, x_col='image', y_col='class', target_size=img_size, batch_size=batch_size, class_mode='categorical')\n",
    "test_generator = test_datagenerator.flow_from_dataframe(test_df, directory=data_dir, x_col='image', y_col='class', target_size=img_size, batch_size=batch_size, class_mode='categorical', shuffle=False)"
   ]
  },
  {
   "cell_type": "code",
   "execution_count": 7,
   "id": "436364df",
   "metadata": {},
   "outputs": [],
   "source": [
    "model = Sequential([\n",
    "    Conv2D(32, (3, 3), activation='relu', input_shape=(*img_size, 3)),\n",
    "    MaxPooling2D(pool_size=(2, 2)),\n",
    "    Conv2D(64, (3, 3), activation='relu'),\n",
    "    MaxPooling2D(pool_size=(2, 2)),\n",
    "    Conv2D(128, (3, 3), activation='relu'),\n",
    "    MaxPooling2D(pool_size=(2, 2)),\n",
    "    Flatten(),\n",
    "    Dense(612, activation='relu'),\n",
    "    Dense(3, activation='softmax')])\n",
    "model.compile(loss='categorical_crossentropy', optimizer='adam', metrics=['accuracy'])"
   ]
  },
  {
   "cell_type": "code",
   "execution_count": 8,
   "id": "b767fa0e",
   "metadata": {},
   "outputs": [
    {
     "name": "stdout",
     "output_type": "stream",
     "text": [
      "Epoch 1/10\n",
      "6/6 [==============================] - 15s 2s/step - loss: 3.5351 - accuracy: 0.3333 - val_loss: 1.1531 - val_accuracy: 0.3333\n",
      "Epoch 2/10\n",
      "6/6 [==============================] - 11s 2s/step - loss: 1.1180 - accuracy: 0.3389 - val_loss: 1.1208 - val_accuracy: 0.3333\n",
      "Epoch 3/10\n",
      "6/6 [==============================] - 11s 2s/step - loss: 1.0663 - accuracy: 0.4556 - val_loss: 1.0250 - val_accuracy: 0.4889\n",
      "Epoch 4/10\n",
      "6/6 [==============================] - 11s 2s/step - loss: 0.9833 - accuracy: 0.5111 - val_loss: 0.8845 - val_accuracy: 0.5778\n",
      "Epoch 5/10\n",
      "6/6 [==============================] - 11s 2s/step - loss: 0.8984 - accuracy: 0.5389 - val_loss: 0.8209 - val_accuracy: 0.6222\n",
      "Epoch 6/10\n",
      "6/6 [==============================] - 11s 2s/step - loss: 0.8397 - accuracy: 0.6056 - val_loss: 0.7645 - val_accuracy: 0.6444\n",
      "Epoch 7/10\n",
      "6/6 [==============================] - 11s 2s/step - loss: 0.7515 - accuracy: 0.6444 - val_loss: 0.8164 - val_accuracy: 0.6222\n",
      "Epoch 8/10\n",
      "6/6 [==============================] - 12s 2s/step - loss: 0.7268 - accuracy: 0.6333 - val_loss: 0.7241 - val_accuracy: 0.6667\n",
      "Epoch 9/10\n",
      "6/6 [==============================] - 12s 2s/step - loss: 0.6524 - accuracy: 0.7056 - val_loss: 0.8625 - val_accuracy: 0.6444\n",
      "Epoch 10/10\n",
      "6/6 [==============================] - 11s 2s/step - loss: 0.6047 - accuracy: 0.7278 - val_loss: 0.6898 - val_accuracy: 0.6889\n"
     ]
    },
    {
     "data": {
      "text/plain": [
       "<keras.callbacks.History at 0x1c2cc4c5990>"
      ]
     },
     "execution_count": 8,
     "metadata": {},
     "output_type": "execute_result"
    }
   ],
   "source": [
    "model.fit(train_generator,epochs=10,validation_data = test_generator)"
   ]
  },
  {
   "cell_type": "code",
   "execution_count": 9,
   "id": "310ed6f7",
   "metadata": {},
   "outputs": [
    {
     "name": "stdout",
     "output_type": "stream",
     "text": [
      "Test loss:  0.69\n",
      "Test accuracy:  0.69\n"
     ]
    }
   ],
   "source": [
    "loss, accuracy = model.evaluate(test_generator, verbose=0)\n",
    "print('Test loss: ', round(loss, 2))\n",
    "print('Test accuracy: ', round(accuracy, 2))"
   ]
  },
  {
   "cell_type": "code",
   "execution_count": null,
   "id": "9eb11aa2",
   "metadata": {},
   "outputs": [],
   "source": []
  }
 ],
 "metadata": {
  "kernelspec": {
   "display_name": "Python 3 (ipykernel)",
   "language": "python",
   "name": "python3"
  },
  "language_info": {
   "codemirror_mode": {
    "name": "ipython",
    "version": 3
   },
   "file_extension": ".py",
   "mimetype": "text/x-python",
   "name": "python",
   "nbconvert_exporter": "python",
   "pygments_lexer": "ipython3",
   "version": "3.11.2"
  }
 },
 "nbformat": 4,
 "nbformat_minor": 5
}
